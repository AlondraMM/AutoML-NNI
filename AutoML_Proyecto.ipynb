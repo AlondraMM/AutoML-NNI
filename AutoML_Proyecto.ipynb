{
 "cells": [
  {
   "cell_type": "markdown",
   "id": "dd640713",
   "metadata": {},
   "source": [
    "# Implementación de NAS usando la paquetería NNI\n",
    "**Elaborado por: Alondra E. Matos Mendoza**"
   ]
  },
  {
   "cell_type": "markdown",
   "id": "4237bdb5",
   "metadata": {},
   "source": [
    "Los componentes del proceso de Búsqueda Automática de Arquitecturas Neuronales (NAS) son:\n",
    "\n",
    "- **<p style=\"color:purple;\">Definición del Espacio de Búsqueda:</p>** Define un espacio de búsqueda que incluye diversos componentes arquitectónicos, como tipos de capas, patrones de conectividad e hiperparámetros. Este espacio representa el conjunto de posibles arquitecturas de redes neuronales.<br> <br/>\n",
    "\n",
    "- **<p style=\"color:purple;\">Algoritmo de Búsqueda:</p>** Utiliza un algoritmo de búsqueda para recorrer eficientemente el espacio de búsqueda. Los métodos populares incluyen algoritmos genéticos, aprendizaje por refuerzo, búsqueda aleatoria y optimización basada en gradientes. El algoritmo explora diferentes arquitecturas y evalúa su rendimiento en una tarea específica.<br> <br/>\n",
    "\n",
    "- **<p style=\"color:purple;\">Evaluación del desempeño:</p>** Entrena y valida cada arquitectura en el espacio de búsqueda en una tarea proxy o un conjunto de datos más pequeño para estimar su rendimiento. Este paso implica entrenar, evaluar y comparar múltiples arquitecturas.\n",
    "\n"
   ]
  },
  {
   "cell_type": "markdown",
   "id": "cdbaefd0",
   "metadata": {},
   "source": [
    "La paquetería [NNI de Microsoft](https://nni.readthedocs.io/en/latest/index.html#) simplifica la implementación de técnicas de NAS en el entorno individual, disminuyendo significativamente la carga de trabajo de ingeniería necesaria."
   ]
  },
  {
   "cell_type": "markdown",
   "id": "fbfd3ef5",
   "metadata": {},
   "source": [
    "A continuación, se presenta una aplicación de técnicas de NAS utilizando NNI, con el objetivo de descubrir una arquitectura de red neuronal convolucional que logre clasificar las imágenes de la base de datos Fashion MNIST con un desempeño destacado.\n",
    "\n",
    "Cabe mencionar que es necesario instalar la librería NNI, como se muestra en la siguiente línea de código."
   ]
  },
  {
   "cell_type": "code",
   "execution_count": 1,
   "id": "dc1c1ae1",
   "metadata": {},
   "outputs": [],
   "source": [
    "# !pip install nni"
   ]
  },
  {
   "cell_type": "markdown",
   "id": "de3d0d9b",
   "metadata": {},
   "source": [
    "### Ejemplo: Fashion MNIST"
   ]
  },
  {
   "cell_type": "markdown",
   "id": "92024563",
   "metadata": {},
   "source": [
    "Fashion-MNIST es una base de datos que contiene imágenes de artículos de Zalando, compuesta por 60,000 ejemplos para entrenamiento y 10,000 para pruebas. Cada ejemplo consiste en una imagen en escala de grises de 28x28 píxeles y una etiqueta asociada perteneciente a una de las siguientes 10 clases disponibles:"
   ]
  },
  {
   "cell_type": "markdown",
   "id": "e6258990",
   "metadata": {},
   "source": [
    "| Clase | Descripción | \n",
    "|:--------------------:|:-------------------:|\n",
    "| 0          | T-shirt/top      | \n",
    "| 1          | Trouser         |\n",
    "| 2           | \tPullover           |\n",
    "| 3           | Dress       | \n",
    "| 4          |\tCoat          |\n",
    "| 5          |\tSandal          |\n",
    "| 6            | \tShirt        |\n",
    "| 7           | Sneaker        | \n",
    "| 8            | Bag          |\n",
    "| 9            | \tAnkle boot         |\n"
   ]
  },
  {
   "cell_type": "markdown",
   "id": "6ae7cc2e",
   "metadata": {},
   "source": [
    "###  <p style=\"color:blue;\">Función de evaluación del desempeño: </p>\n",
    "\n",
    "#####  <p style=\"color:rgb(135,206,235);\">Descripción del espacio de búsqueda:</p>\n",
    "\n",
    "- **<p style=\"color:violet;\">Definición del Modelo</p>**\n",
    "\n",
    "Se define el espacio de búsqueda creando una clase que hereda de `ModelSpace`\n",
    "\n",
    "- **<p style=\"color:violet;\">Capas Convolucionales</p>**\n",
    "\n",
    "Se definen tres conjuntos de capas convolucionales (`conv1`, `conv2`, `conv3`) utilizando la clase `nn.Sequential`.\n",
    "Cada conjunto incluye capas convolucionales, capas de normalización por lotes (BatchNorm), y funciones de activación ReLU.\n",
    "Las capas `MutableConv2d` y `MutableBatchNorm2d` de NNI permiten la modificación automática de la arquitectura durante la búsqueda de la mejor configuración. La arquitectura final puede variar según las elecciones realizadas durante la búsqueda automática.\n",
    "\n",
    "- **<p style=\"color:violet;\">Bloques y Capa de Elección</p>**\n",
    "\n",
    "Se define un bloque repetitivo (`blocks4`) con capas convolucionales y de normalización por lotes. La cantidad de repeticiones es determinada por la elección de `nni.choice('num_block', [1, 2, 3])`.\n",
    "\n",
    "Se define una capa de elección (`conv5`) que selecciona entre dos opciones de capas convolucionales: una capa de convolución depthwise separable y una capa convencional de convolución.\n",
    "\n",
    "- **<p style=\"color:violet;\">Capas Totalmente Conectadas y Dropout</p>**\n",
    "\n",
    "Se definen dos capas totalmente conectadas (`fc1` y `fc2`) con dimensiones variables basadas en la elección de `feature` (64, 128, o 193).\n",
    "\n",
    "La capa de dropout mutable (`dropout1`) ajusta dinámicamente la tasa de dropout con `nni.choice('dropout', [0.25, 0.5, 0.75])`, mientras que `dropout2` tiene una tasa fija del 0.5.\n",
    "\n",
    "- **<p style=\"color:violet;\">Método Forward</p>**\n",
    "\n",
    "Se implementa el método `forward` que describe cómo los datos se propagan a través del modelo, aplicando las capas definidas en las secciones anteriores en una secuencia específica.\n"
   ]
  },
  {
   "cell_type": "code",
   "execution_count": 2,
   "id": "30a5cdb2",
   "metadata": {},
   "outputs": [
    {
     "data": {
      "text/plain": [
       "CreatedModelSpace(\n",
       "  (conv1): Sequential(\n",
       "    (0): MutableConv2d(in_channels=1, out_channels=32, kernel_size=3, padding=1)\n",
       "    (1): MutableBatchNorm2d(num_features=32)\n",
       "    (2): ReLU()\n",
       "    (3): Conv2d(32, 64, kernel_size=(3, 3), stride=(1, 1), padding=(1, 1))\n",
       "    (4): MutableBatchNorm2d(num_features=64)\n",
       "    (5): ReLU()\n",
       "  )\n",
       "  (conv2): Sequential(\n",
       "    (0): MutableConv2d(in_channels=64, out_channels=64, kernel_size=3, padding=1, bias=False)\n",
       "    (1): MutableConv2d(in_channels=64, out_channels=64, kernel_size=3, padding=1, bias=False)\n",
       "    (2): MutableBatchNorm2d(num_features=64)\n",
       "    (3): ReLU()\n",
       "    (4): MaxPool2d(kernel_size=2, stride=2, padding=0, dilation=1, ceil_mode=False)\n",
       "  )\n",
       "  (conv3): Sequential(\n",
       "    (0): MutableConv2d(in_channels=64, out_channels=128, kernel_size=3, padding=1)\n",
       "    (1): MutableBatchNorm2d(num_features=128)\n",
       "    (2): ReLU()\n",
       "    (3): LayerChoice(\n",
       "      label='conv3'\n",
       "      (0): Sequential(\n",
       "        (0): MutableConv2d(in_channels=128, out_channels=128, kernel_size=3, padding=1)\n",
       "        (1): MutableConv2d(in_channels=128, out_channels=256, kernel_size=3, padding=1)\n",
       "      )\n",
       "      (1): MutableConv2d(in_channels=128, out_channels=256, kernel_size=3, padding=1)\n",
       "    )\n",
       "    (4): MutableBatchNorm2d(num_features=256)\n",
       "    (5): ReLU()\n",
       "    (6): MaxPool2d(kernel_size=2, stride=2, padding=0, dilation=1, ceil_mode=False)\n",
       "  )\n",
       "  (blocks4): Repeat(\n",
       "    (blocks): ModuleList(\n",
       "      (0-2): 3 x Sequential(\n",
       "        (0): MutableConv2d(in_channels=256, out_channels=256, kernel_size=2, stride=1, padding=1, bias=True)\n",
       "        (1): MutableBatchNorm2d(num_features=256)\n",
       "        (2): ReLU()\n",
       "      )\n",
       "    )\n",
       "  )\n",
       "  (conv5): LayerChoice(\n",
       "    label='conv5'\n",
       "    (0): Conv2d(256, 512, kernel_size=(3, 3), stride=(1, 1))\n",
       "    (1): DepthwiseSeparableConv(\n",
       "      (depthwise): Conv2d(256, 256, kernel_size=(3, 3), stride=(1, 1), groups=256)\n",
       "      (pointwise): Conv2d(256, 512, kernel_size=(1, 1), stride=(1, 1))\n",
       "    )\n",
       "  )\n",
       "  (fc1): MutableLinear(in_features=4608, out_features=Categorical([64, 128, 193], label='feature'))\n",
       "  (fc2): MutableLinear(in_features=Categorical([64, 128, 193], label='feature'), out_features=10)\n",
       "  (dropout1): MutableDropout(p=Categorical([0.25, 0.5, 0.75], label='dropout'))\n",
       "  (dropout2): Dropout(p=0.5, inplace=False)\n",
       ")"
      ]
     },
     "execution_count": 2,
     "metadata": {},
     "output_type": "execute_result"
    }
   ],
   "source": [
    "import nni\n",
    "import torch\n",
    "import torch.nn as nn\n",
    "import torch.nn.functional as F\n",
    "from nni.nas.nn.pytorch import LayerChoice, ModelSpace, MutableDropout, MutableLinear, MutableConv2d, MutableBatchNorm2d\n",
    "from nni.nas.nn.pytorch import Repeat\n",
    "\n",
    "#  Se define un módulo de convolución separable en profundidad\n",
    "class DepthwiseSeparableConv(nn.Module):\n",
    "    def __init__(self, in_ch, out_ch):\n",
    "        super().__init__()\n",
    "        self.depthwise = nn.Conv2d(in_ch, in_ch, kernel_size=3, groups=in_ch)\n",
    "        self.pointwise = nn.Conv2d(in_ch, out_ch, kernel_size=1)\n",
    "\n",
    "    def forward(self, x):\n",
    "        return self.pointwise(self.depthwise(x))\n",
    "\n",
    "# Espacio de búsqueda\n",
    "class CreatedModelSpace(ModelSpace):\n",
    "    def __init__(self):\n",
    "        super().__init__()\n",
    "        \n",
    "        # Primer conjunto de capas convolucionales \n",
    "        self.conv1 = nn.Sequential(\n",
    "            MutableConv2d(1, 32, kernel_size=3, padding=1),\n",
    "            MutableBatchNorm2d(32),\n",
    "            nn.ReLU(),\n",
    "            nn.Conv2d(32, 64, kernel_size=3, padding=1),\n",
    "            MutableBatchNorm2d(64),\n",
    "            nn.ReLU(),\n",
    "        )\n",
    "        \n",
    "        # Segundo conjunto de capas convolucionales \n",
    "        self.conv2 = nn.Sequential(\n",
    "            MutableConv2d( 64, 64, kernel_size=3, padding=1, bias=False),\n",
    "            MutableConv2d(64, 64, kernel_size=3, padding=1, bias=False),\n",
    "            MutableBatchNorm2d(64),\n",
    "            nn.ReLU(inplace=False),\n",
    "            nn.MaxPool2d(kernel_size=2, stride=2)\n",
    "        )\n",
    "        \n",
    "        # Tercer conjunto de capas convolucionales \n",
    "        self.conv3 = nn.Sequential(\n",
    "            MutableConv2d(64, 128, kernel_size=3, padding=1),\n",
    "            MutableBatchNorm2d(128),\n",
    "            nn.ReLU(),\n",
    "            \n",
    "            LayerChoice([\n",
    "            \n",
    "                nn.Sequential(\n",
    "                    MutableConv2d(128, 128, kernel_size=3, padding=1),\n",
    "                    MutableConv2d(128, 256, kernel_size=3, padding=1)),\n",
    "                \n",
    "                  MutableConv2d(128, 256, kernel_size=3, padding=1)\n",
    "     \n",
    "            ], label='conv3'),\n",
    "     \n",
    "            MutableBatchNorm2d(256),\n",
    "            nn.ReLU(),\n",
    "            nn.MaxPool2d(kernel_size=2, stride=2),\n",
    "      \n",
    "        )        \n",
    "        \n",
    "        # Cuarto conjunto de capas convolucionales \n",
    "        self.blocks4 = Repeat(\n",
    "            nn.Sequential(\n",
    "            MutableConv2d(256, 256, 2, stride=1, padding=1, bias=True),\n",
    "            MutableBatchNorm2d(256),\n",
    "            nn.ReLU(inplace=False)) , nni.choice('num_block',[1,2,3]))\n",
    "        \n",
    "        # Quinto conjunto de capas convolucionales \n",
    "        self.conv5 = LayerChoice([\n",
    "            nn.Conv2d(256, 512, 3, 1),\n",
    "            DepthwiseSeparableConv(256, 512)\n",
    "        ], label='conv5')\n",
    "        \n",
    "        \n",
    "        # Capas totalmente conectadas\n",
    "        feature = nni.choice('feature', [64, 128, 193 ])\n",
    "        self.fc1 = MutableLinear(4608, feature)\n",
    "        self.fc2 = MutableLinear(feature, 10)    \n",
    "        \n",
    "        #  Dropouts\n",
    "        self.dropout1 = MutableDropout(nni.choice('dropout', [0.25, 0.5, 0.75]))  \n",
    "        self.dropout2 = nn.Dropout(0.5)\n",
    "        \n",
    "    \n",
    "    def forward(self, x):\n",
    "    # Define cómo los datos se propagan a través del modelo.\n",
    "        x = self.conv1(x)\n",
    "        x = self.conv2(x)\n",
    "        x = self.conv3(x)\n",
    "        x = self.blocks4(x)\n",
    "        x = F.avg_pool2d( self.conv5(x), 2)\n",
    "        x = torch.flatten(self.dropout1(x), 1)\n",
    "        x = self.fc2(self.dropout2(F.relu(self.fc1(x))))\n",
    "        output = F.log_softmax(x, dim=1)\n",
    "        return output\n",
    "\n",
    "model_space = CreatedModelSpace()\n",
    "model_space"
   ]
  },
  {
   "cell_type": "markdown",
   "id": "405128ae",
   "metadata": {},
   "source": [
    "###  <p style=\"color:blue;\">Función de evaluación</p>\n",
    "Se define la función de evaluación `evaluate_model`, la cual realiza el proceso completo de entrenamiento (mediante `train_epoch`) y evaluación (mediante `val_epoch`)  a lo largo de un número especificado de épocas, utilizando dataloaders para cargar conjuntos de datos de entrenamiento y validación. \n",
    "\n",
    "Durante una época, la función `train_epoch` se encarga de entrenar el modelo, utilizando la función de pérdida de entropía cruzada y el optimizador Adam; mientras que `val_epoch` evalúa el modelo en el conjunto de validación, calculando la exactitud y la pérdida promedio por imagen. "
   ]
  },
  {
   "cell_type": "code",
   "execution_count": 3,
   "id": "c37a2c8a",
   "metadata": {},
   "outputs": [],
   "source": [
    "from torchvision import transforms\n",
    "from torchvision.datasets import FashionMNIST\n",
    "from torch.utils.data import DataLoader\n",
    "\n",
    "# Definición de la función para entrenar durante una época\n",
    "def train_epoch(model, device, train_loader, optimizer, epoch):\n",
    "    \n",
    "    loss_fn = torch.nn.CrossEntropyLoss()   # Definir la función de pérdida (entropía cruzada)\n",
    "    model.train() # Establecer el modelo en modo de entrenamiento\n",
    "\n",
    "    # Iterar sobre los lotes de datos en el conjunto de entrenamiento\n",
    "    for batch_idx, (data, target) in enumerate(train_loader):\n",
    " \n",
    "        data, target = data.to(device), target.to(device) # Mover los datos y las etiquetas al dispositivo (CPU o GPU)\n",
    "        optimizer.zero_grad()  # Inicializar los gradientes del optimizador\n",
    "        output = model(data) # Hacer una propagación hacia adelante (forward pass)\n",
    "        loss = loss_fn(output, target) # Calcular la pérdida entre las predicciones y las etiquetas reales\n",
    "        loss.backward() # Realizar una propagación hacia atrás (backward pass)\n",
    "        optimizer.step()  # Actualizar los parámetros del modelo utilizando el optimizador\n",
    "\n",
    "        # Imprimir información de entrenamiento cada 10 lotes\n",
    "        if batch_idx % 10 == 0:\n",
    "            print('Train Epoch: {} [{}/{} ({:.0f}%)]\\tLoss: {:.6f}'.format(\n",
    "                epoch, batch_idx * len(data), len(train_loader.dataset),\n",
    "                100. * batch_idx / len(train_loader), loss.item()))\n",
    "\n",
    "\n",
    "\n",
    "# Definición de la función para evaluar el modelo en el conjunto de validación\n",
    "def val_epoch(model, device, val_loader):\n",
    "    model.eval() # Establecer el modelo en modo de evaluación\n",
    "\n",
    "    # Inicializar la pérdida y el contador de predicciones correctas\n",
    "    val_loss = 0\n",
    "    correct = 0\n",
    "\n",
    "    # Deshabilitar el cálculo de gradientes durante la evaluación\n",
    "    with torch.no_grad():\n",
    "        # Iterar sobre los lotes de datos en el conjunto de validación\n",
    "        for data, target in val_loader:\n",
    "           \n",
    "            data, target = data.to(device), target.to(device) # Mover los datos y las etiquetas al dispositivo (CPU o GPU)\n",
    "            output = model(data)   # Hacer una propagación hacia adelante (forward pass)\n",
    "            pred = output.argmax(dim=1, keepdim=True) # Obtener las predicciones\n",
    "            correct += pred.eq(target.view_as(pred)).sum().item() # Actualizar el contador de predicciones correctas\n",
    "\n",
    "    val_loss /= len(val_loader.dataset) # Calcular la pérdida promedio por imagen en el conjunto de validación\n",
    "    accuracy = 100. * correct / len(val_loader.dataset) # Calcular la exactitud en el conjunto de validación\n",
    "\n",
    "    # Imprimir la precisión en el conjunto de validación\n",
    "    print('\\nTest set: Accuracy: {}/{} ({:.0f}%)\\n'.format(\n",
    "          correct, len(val_loader.dataset), accuracy))\n",
    "\n",
    "    # Devolver la precisión como medida de desempeño\n",
    "    return accuracy\n",
    "\n",
    "\n",
    "\n",
    "# Definición de la función para evaluar el modelo con entrenamiento y validación\n",
    "def evaluate_model(model):\n",
    "    # Verificar si la GPU está disponible y configurar el dispositivo\n",
    "    device = torch.device('cuda') if torch.cuda.is_available() else torch.device('cpu')\n",
    "    model.to(device)\n",
    "\n",
    "    # Inicializar el optimizador (Adam) con una tasa de aprendizaje de 1e-3\n",
    "    optimizer = torch.optim.Adam(model.parameters(), lr=1e-3) \n",
    "    \n",
    "    # Definir la transformación para convertir las imágenes a tensores\n",
    "    transf = transforms.Compose([transforms.ToTensor()])\n",
    "    \n",
    "    # Crear un DataLoader para el conjunto de entrenamiento\n",
    "    train_loader = DataLoader(\n",
    "        FashionMNIST(root=\"data\", train=True, download=True, transform=transf),\n",
    "        batch_size=64, shuffle=True\n",
    "    )\n",
    "    \n",
    "    # Crear un DataLoader para el conjunto de validación\n",
    "    val_loader = DataLoader(\n",
    "        FashionMNIST(root=\"data\", train=False, download=True, transform=transf),\n",
    "        batch_size=64\n",
    "    )\n",
    "    \n",
    "    # Iterar sobre un número especificado de épocas (3 en este caso)\n",
    "    for epoch in range(3):\n",
    "        # Entrenar el modelo durante una época\n",
    "        train_epoch(model, device, train_loader, optimizer, epoch)\n",
    "        \n",
    "        # Evaluar el modelo en el conjunto de validación durante una época\n",
    "        accuracy = val_epoch(model, device, val_loader)\n",
    "        \n",
    "        # Informar el resultado intermedio a NNI (Neural Network Intelligence)\n",
    "        nni.report_intermediate_result(accuracy)\n",
    "\n",
    "    # Informar el resultado final de la prueba a NNI\n",
    "    nni.report_final_result(accuracy)\n"
   ]
  },
  {
   "cell_type": "markdown",
   "id": "8d405910",
   "metadata": {},
   "source": [
    "Cuando se crea la funcón de evaluación, se debe guardar usando la función `FunctionalEvaluator`, con el fin de encapsular el código de entrenamiento y evaluación con una única función.Esta función debería recibir una única clase de modelo y utilizar `nni.report_final_result` para informar la puntuación final de este modelo."
   ]
  },
  {
   "cell_type": "code",
   "execution_count": 4,
   "id": "899d8fbc",
   "metadata": {},
   "outputs": [],
   "source": [
    "from nni.nas.evaluator import FunctionalEvaluator\n",
    "evaluator = FunctionalEvaluator(evaluate_model)"
   ]
  },
  {
   "cell_type": "markdown",
   "id": "a59728d3",
   "metadata": {},
   "source": [
    "###  <p style=\"color:blue;\">Algoritmo de Búsqueda </p>"
   ]
  },
  {
   "cell_type": "markdown",
   "id": "c0c1c403",
   "metadata": {},
   "source": [
    "Hay dos enfoques para explorar el espacio de modelos: la estrategia de múltiples intentos y la estrategia de un solo intento. La estrategia de múltiples intentos implica entrenar de manera independiente cada modelo muestreado en el espacio. En cambio, la estrategia de un solo intento implica muestrear el modelo desde un supermodelo.\n",
    "\n",
    "En este caso, se utilizará un enfoque de múltiples intentos bajo la clase `RegularizedEvolution`, que representa un algoritmo de evolución regularizada, también denominado evolución por envejecimiento. Este algoritmo se fundamenta en el \"Algoritmo 1\" delineado por Real y colaboradores en \"Regularized Evolution for Image Classifier Architecture Search\", con ciertas mejoras incorporadas.\n",
    "\n",
    "Las muestras en el algoritmo se llaman \"individuos\". Inicialmente, los individuos de la población inicial se muestrean aleatoriamente desde el espacio de búsqueda, mientras que los restantes se generan mediante un proceso de selección y mutación. A medida que se incorporan nuevos individuos a la población, se elimina el más antiguo para mantener constante el tamaño poblacional.\n",
    "\n",
    "Los parámetros de la clase incluyen:\n",
    "\n",
    "\n",
    "- *<font color=\"gray\">  population_size (int): </font>* El número de individuos a mantener en la población. Default: 100.\n",
    "\n",
    "- *<font color=\"gray\"> sample_size (int):</font>* El número de individuos que participarán en cada torneo. Durante la mutación, se pueden seleccionar aleatoriamente sample_size individuos de la población, y el mejor entre ellos se tratará como el padre. Default: 25.\n",
    "\n",
    "- *<font color=\"gray\">mutation_prob (float):</font>* Probabilidad de que ocurra una mutación en cada dimensión. Default: 0.05.\n",
    "\n",
    "- *<font color=\"gray\">crossover (bool):</font>* Si es True, el nuevo individuo será el resultado de un cruce entre los ganadores de dos torneos individuales. Es decir, se seleccionarán aleatoriamente dos conjuntos de sample_size individuos de la población, y el mejor de cada conjunto se utilizará como padres. Cada dimensión se seleccionará aleatoriamente de uno de los padres. Default: False.\n",
    "\n",
    "- *<font color=\"gray\">dedup (bool): </font>* Aplica la restricción de que una muestra no debe aparecer dos veces. La población podría ser más pequeña que population_size si esto se establece en True y el espacio de búsqueda es pequeño. Default: True.\n",
    "\n",
    "- *<font color=\"gray\">seed  (int | None) : </font>* Semilla aleatoria para la reproducibilidad. Default: None"
   ]
  },
  {
   "cell_type": "markdown",
   "id": "0071d1e4",
   "metadata": {},
   "source": [
    "Si el parámetro crossover es verdadero (True), se seleccionan dos padres (parent1 y parent2) llamando al método best_parent. Estos dos padres son utilizados para realizar un cruce (crossover) aleatorio, donde cada dimensión del individuo resultante tiene un 50% de probabilidad de ser heredada de uno de los padres.Si los dos padres tienen conjuntos diferentes de claves (keys), se lanza un error de valor (ValueError).\n",
    "\n",
    "Posteriormente, se realiza una mutación en el individuo resultante del cruce o en el individuo padre si no hay cruce (crossover es False). La mutación se realiza para cada dimensión del individuo con una probabilidad dada por el parámetro mutation_prob. Si la mutación ocurre, el valor en esa dimensión se reemplaza por un nuevo valor aleatorio generado a partir del espacio de búsqueda definido por MutableAnnotation.\n",
    "\n",
    "Si la deduplicación (dedup) está habilitada, se verifica si la nueva muestra generada es una duplicada de alguna muestra existente. Si es así, se rechaza y se lanza un error."
   ]
  },
  {
   "cell_type": "code",
   "execution_count": 5,
   "id": "a4d79644",
   "metadata": {},
   "outputs": [],
   "source": [
    "from nni.nas.strategy import RegularizedEvolution\n",
    "#strategy_RE= RegularizedEvolution(population_size=30, sample_size=10, mutation_prob=0.05, crossover=False)  \n",
    "strategy_RE= RegularizedEvolution(population_size=30, sample_size=10, mutation_prob=0.05, crossover=True)  "
   ]
  },
  {
   "cell_type": "markdown",
   "id": "55870378",
   "metadata": {},
   "source": [
    "###  <p style=\"color:blue;\">Experimento </p>\n",
    "Se crea el experimento. Se puede visualizar en el puerto que se configure en `experiment.run.`"
   ]
  },
  {
   "cell_type": "code",
   "execution_count": 6,
   "id": "6efe400d",
   "metadata": {},
   "outputs": [],
   "source": [
    "#evaluate_model(model_space)"
   ]
  },
  {
   "cell_type": "code",
   "execution_count": 7,
   "id": "71f7d740",
   "metadata": {},
   "outputs": [
    {
     "name": "stdout",
     "output_type": "stream",
     "text": [
      "[2023-12-05 15:32:13] \u001b[32mConfig is not provided. Will try to infer.\u001b[0m\n",
      "[2023-12-05 15:32:13] \u001b[32mUsing execution engine based on training service. Trial concurrency is set to 1.\u001b[0m\n",
      "[2023-12-05 15:32:13] \u001b[32mUsing simplified model format.\u001b[0m\n",
      "[2023-12-05 15:32:13] \u001b[32mUsing local training service.\u001b[0m\n",
      "[2023-12-05 15:32:15] \u001b[32mCreating experiment, Experiment ID: \u001b[36myvetcgpx\u001b[0m\n",
      "[2023-12-05 15:32:15] \u001b[32mStarting web server...\u001b[0m\n",
      "[2023-12-05 15:32:17] \u001b[32mSetting up...\u001b[0m\n",
      "[2023-12-05 15:32:17] \u001b[32mWeb portal URLs: \u001b[36mhttp://169.254.97.113:8081 http://169.254.134.255:8081 http://169.254.37.69:8081 http://192.168.1.3:8081 http://169.254.159.4:8081 http://127.0.0.1:8081\u001b[0m\n",
      "[2023-12-05 15:32:17] \u001b[32mSuccessfully update searchSpace.\u001b[0m\n",
      "[2023-12-05 15:32:17] \u001b[32mCheckpoint saved to C:\\Users\\Alondra\\nni-experiments\\yvetcgpx\\checkpoint.\u001b[0m\n",
      "[2023-12-05 15:32:17] \u001b[32mExperiment initialized successfully. Starting exploration strategy...\u001b[0m\n",
      "[2023-12-05 15:32:17] \u001b[32mSpawning the initial population. 30 individuals to go.\u001b[0m\n",
      "[2023-12-05 15:32:17] \u001b[32m[Individual    1] Random: {'conv3': 1, 'num_block': 3, 'conv5': 1, 'feature': 128, 'dropout': 0.5}\u001b[0m\n",
      "WARNING:tensorflow:From C:\\Users\\Alondra\\anaconda3\\Lib\\site-packages\\keras\\src\\losses.py:2976: The name tf.losses.sparse_softmax_cross_entropy is deprecated. Please use tf.compat.v1.losses.sparse_softmax_cross_entropy instead.\n",
      "\n",
      "[2023-12-05 15:32:42] \u001b[33mWARNING: SimplifiedModelSpace({'conv3': 1, 'num_block': 3, 'conv5': 1, 'feature': 128, 'dropout': 0.5}, 'training') has no metric. Skip.\u001b[0m\n",
      "[2023-12-05 15:32:43] \u001b[32m[Individual    2] Random: {'conv3': 0, 'num_block': 3, 'conv5': 1, 'feature': 128, 'dropout': 0.25}\u001b[0m\n",
      "[2023-12-05 15:32:54] \u001b[33mWARNING: SimplifiedModelSpace({'conv3': 0, 'num_block': 3, 'conv5': 1, 'feature': 128, 'dropout': 0.25}, 'training') has no metric. Skip.\u001b[0m\n",
      "[2023-12-05 15:32:55] \u001b[32m[Individual    3] Random: {'conv3': 0, 'num_block': 1, 'conv5': 1, 'feature': 193, 'dropout': 0.5}\u001b[0m\n",
      "[2023-12-05 16:26:04] \u001b[32m[Metric] 91.340000 Sample: {'conv3': 0, 'num_block': 1, 'conv5': 1, 'feature': 193, 'dropout': 0.5}\u001b[0m\n",
      "[2023-12-05 16:26:04] \u001b[32m[Individual    4] Random: {'conv3': 0, 'num_block': 1, 'conv5': 0, 'feature': 193, 'dropout': 0.75}\u001b[0m\n",
      "[2023-12-05 17:18:05] \u001b[32m[Metric] 89.990000 Sample: {'conv3': 0, 'num_block': 1, 'conv5': 0, 'feature': 193, 'dropout': 0.75}\u001b[0m\n",
      "[2023-12-05 17:18:05] \u001b[32m[Individual    5] Random: {'conv3': 1, 'num_block': 1, 'conv5': 1, 'feature': 64, 'dropout': 0.5}\u001b[0m\n",
      "[2023-12-05 17:59:03] \u001b[32m[Metric] 91.170000 Sample: {'conv3': 1, 'num_block': 1, 'conv5': 1, 'feature': 64, 'dropout': 0.5}\u001b[0m\n",
      "[2023-12-05 17:59:04] \u001b[32m[Individual    6] Random: {'conv3': 1, 'num_block': 2, 'conv5': 0, 'feature': 193, 'dropout': 0.25}\u001b[0m\n",
      "[2023-12-05 17:59:06] \u001b[32mWaiting for models submitted to engine to finish...\u001b[0m\n",
      "[2023-12-05 18:51:14] \u001b[32mExperiment is completed.\u001b[0m\n",
      "[2023-12-05 18:51:14] \u001b[32mSearch process is done. You can put an `time.sleep(FOREVER)` here to block the process if you want to continue viewing the experiment.\u001b[0m\n",
      "Tiempo de corrida: 11940.85046172142 segundos\n",
      "{'conv3': 1, 'num_block': 2, 'conv5': 0, 'feature': 193, 'dropout': 0.25}\n"
     ]
    }
   ],
   "source": [
    "import time\n",
    "from nni.nas.experiment import NasExperiment\n",
    "# Inicia el experimento, comienza el proceso de búsqueda.\n",
    "start_time = time.time()\n",
    "experiment = NasExperiment(model_space,  evaluator , strategy_RE)\n",
    "#experiment.config.max_experiment_duration = '10m' # Duración máxima del experimento\n",
    "experiment.config.max_trial_number = 6   # Generar 6 pruebas como máximo\n",
    "experiment.run(port=8081)\n",
    "end_time = time.time()\n",
    "elapsed_time = end_time - start_time\n",
    "print(f\"Tiempo de corrida: {elapsed_time} segundos\")\n",
    "\n",
    "for model_dict in experiment.export_top_models(formatter='dict'):\n",
    "    print(model_dict)"
   ]
  },
  {
   "cell_type": "markdown",
   "id": "9a667769",
   "metadata": {},
   "source": [
    "###  <p style=\"color:orange;\">Considerando un espacio de búsqueda definido: NasBench201...</p>"
   ]
  },
  {
   "cell_type": "code",
   "execution_count": 8,
   "id": "1a7d64cd",
   "metadata": {},
   "outputs": [],
   "source": [
    "# Definición de la función para evaluar el modelo con entrenamiento y validación\n",
    "def evaluate_model_3c(model):\n",
    "    device = torch.device('cuda') if torch.cuda.is_available() else torch.device('cpu')\n",
    "    model.to(device)\n",
    "    optimizer = torch.optim.Adam(model.parameters(), lr=1e-3) \n",
    "    \n",
    "    # Definir la transformación para convertir las imágenes a tensores \n",
    "    transf = transforms.Compose([\n",
    "        transforms.Grayscale(num_output_channels=3),\n",
    "        transforms.ToTensor()])\n",
    "    \n",
    "    # Crear un DataLoader para el conjunto de entrenamiento\n",
    "    train_loader = DataLoader(FashionMNIST(root=\"data\", train=True, download=True, transform=transf),batch_size=64, shuffle=True)\n",
    "    \n",
    "    # Crear un DataLoader para el conjunto de validación\n",
    "    val_loader = DataLoader(FashionMNIST(root=\"data\", train=False, download=True, transform=transf),batch_size=64)\n",
    "    \n",
    "    # Iterar sobre un número especificado de épocas (3 en este caso)\n",
    "    for epoch in range(3):\n",
    "        train_epoch(model, device, train_loader, optimizer, epoch)\n",
    "        accuracy = val_epoch(model, device, val_loader)\n",
    "        nni.report_intermediate_result(accuracy)\n",
    "\n",
    "    # Informar el resultado final de la prueba a NNI\n",
    "    nni.report_final_result(accuracy)\n",
    "\n",
    "from nni.nas.evaluator import FunctionalEvaluator\n",
    "evaluator_3c = FunctionalEvaluator(evaluate_model_3c)"
   ]
  },
  {
   "cell_type": "code",
   "execution_count": 10,
   "id": "442d6a41",
   "metadata": {},
   "outputs": [
    {
     "name": "stdout",
     "output_type": "stream",
     "text": [
      "[2023-12-05 18:56:24] \u001b[32mConfig is not provided. Will try to infer.\u001b[0m\n",
      "[2023-12-05 18:56:24] \u001b[32mUsing execution engine based on training service. Trial concurrency is set to 1.\u001b[0m\n",
      "[2023-12-05 18:56:24] \u001b[32mUsing simplified model format.\u001b[0m\n",
      "[2023-12-05 18:56:24] \u001b[32mUsing local training service.\u001b[0m\n",
      "[2023-12-05 18:56:26] \u001b[32mCreating experiment, Experiment ID: \u001b[36mdgswfh72\u001b[0m\n",
      "[2023-12-05 18:56:26] \u001b[32mStarting web server...\u001b[0m\n",
      "[2023-12-05 18:56:27] \u001b[32mSetting up...\u001b[0m\n",
      "[2023-12-05 18:56:28] \u001b[32mWeb portal URLs: \u001b[36mhttp://169.254.97.113:8084 http://169.254.134.255:8084 http://169.254.37.69:8084 http://192.168.1.3:8084 http://169.254.159.4:8084 http://127.0.0.1:8084\u001b[0m\n",
      "[2023-12-05 18:56:28] \u001b[32mSuccessfully update searchSpace.\u001b[0m\n",
      "[2023-12-05 18:56:28] \u001b[32mCheckpoint saved to C:\\Users\\Alondra\\nni-experiments\\dgswfh72\\checkpoint.\u001b[0m\n",
      "[2023-12-05 18:56:28] \u001b[32mExperiment initialized successfully. Starting exploration strategy...\u001b[0m\n",
      "[2023-12-05 18:56:28] \u001b[32mSpawning the initial population. 30 individuals to go.\u001b[0m\n",
      "[2023-12-05 18:56:28] \u001b[32m[Individual    1] Random: {'cell/0_1': 'avg_pool_3x3', 'cell/0_2': 'skip_connect', 'cell/1_2': 'conv_1x1', 'cell/0_3': 'avg_pool_3x3', 'cell/1_3': 'none', 'cell/2_3': 'conv_3x3'}\u001b[0m\n",
      "[2023-12-05 19:49:03] \u001b[32m[Metric] 88.250000 Sample: {'cell/0_1': 'avg_pool_3x3', 'cell/0_2': 'skip_connect', 'cell/1_2': 'conv_1x1', 'cell/0_3': 'avg_pool_3x3', 'cell/1_3': 'none', 'cell/2_3': 'conv_3x3'}\u001b[0m\n",
      "[2023-12-05 19:49:03] \u001b[32m[Individual    2] Random: {'cell/0_1': 'skip_connect', 'cell/0_2': 'conv_3x3', 'cell/1_2': 'none', 'cell/0_3': 'avg_pool_3x3', 'cell/1_3': 'avg_pool_3x3', 'cell/2_3': 'skip_connect'}\u001b[0m\n",
      "[2023-12-05 20:24:40] \u001b[32m[Metric] 73.930000 Sample: {'cell/0_1': 'skip_connect', 'cell/0_2': 'conv_3x3', 'cell/1_2': 'none', 'cell/0_3': 'avg_pool_3x3', 'cell/1_3': 'avg_pool_3x3', 'cell/2_3': 'skip_connect'}\u001b[0m\n",
      "[2023-12-05 20:24:40] \u001b[32m[Individual    3] Random: {'cell/0_1': 'none', 'cell/0_2': 'none', 'cell/1_2': 'none', 'cell/0_3': 'conv_3x3', 'cell/1_3': 'conv_3x3', 'cell/2_3': 'conv_1x1'}\u001b[0m\n",
      "[2023-12-05 21:06:49] \u001b[32m[Metric] 87.030000 Sample: {'cell/0_1': 'none', 'cell/0_2': 'none', 'cell/1_2': 'none', 'cell/0_3': 'conv_3x3', 'cell/1_3': 'conv_3x3', 'cell/2_3': 'conv_1x1'}\u001b[0m\n",
      "[2023-12-05 21:06:50] \u001b[32m[Individual    4] Random: {'cell/0_1': 'conv_1x1', 'cell/0_2': 'skip_connect', 'cell/1_2': 'none', 'cell/0_3': 'skip_connect', 'cell/1_3': 'avg_pool_3x3', 'cell/2_3': 'none'}\u001b[0m\n",
      "[2023-12-05 21:33:41] \u001b[32m[Metric] 88.960000 Sample: {'cell/0_1': 'conv_1x1', 'cell/0_2': 'skip_connect', 'cell/1_2': 'none', 'cell/0_3': 'skip_connect', 'cell/1_3': 'avg_pool_3x3', 'cell/2_3': 'none'}\u001b[0m\n",
      "[2023-12-05 21:33:42] \u001b[32m[Individual    5] Random: {'cell/0_1': 'skip_connect', 'cell/0_2': 'avg_pool_3x3', 'cell/1_2': 'none', 'cell/0_3': 'avg_pool_3x3', 'cell/1_3': 'conv_3x3', 'cell/2_3': 'none'}\u001b[0m\n",
      "[2023-12-05 22:21:25] \u001b[32m[Metric] 88.830000 Sample: {'cell/0_1': 'skip_connect', 'cell/0_2': 'avg_pool_3x3', 'cell/1_2': 'none', 'cell/0_3': 'avg_pool_3x3', 'cell/1_3': 'conv_3x3', 'cell/2_3': 'none'}\u001b[0m\n",
      "[2023-12-05 22:21:25] \u001b[32m[Individual    6] Random: {'cell/0_1': 'conv_1x1', 'cell/0_2': 'skip_connect', 'cell/1_2': 'conv_3x3', 'cell/0_3': 'conv_1x1', 'cell/1_3': 'conv_3x3', 'cell/2_3': 'conv_1x1'}\u001b[0m\n",
      "[2023-12-05 22:21:26] \u001b[32mWaiting for models submitted to engine to finish...\u001b[0m\n",
      "[2023-12-05 23:21:06] \u001b[32mExperiment is completed.\u001b[0m\n",
      "[2023-12-05 23:21:06] \u001b[32mSearch process is done. You can put an `time.sleep(FOREVER)` here to block the process if you want to continue viewing the experiment.\u001b[0m\n",
      "Tiempo de corrida: 15882.219417572021 segundos\n",
      "{'cell/0_1': 'conv_1x1', 'cell/0_2': 'skip_connect', 'cell/1_2': 'none', 'cell/0_3': 'skip_connect', 'cell/1_3': 'avg_pool_3x3', 'cell/2_3': 'none'}\n"
     ]
    }
   ],
   "source": [
    "# Espacio de búsqueda\n",
    "from nni.nas.hub.pytorch import NasBench201\n",
    "model_space_nasbench = NasBench201(num_labels =10, num_modules_per_stack =5, stem_out_channels =  16)\n",
    "\n",
    "# Estrategia\n",
    "from nni.nas.strategy import RegularizedEvolution\n",
    "strategy_RE2= RegularizedEvolution(population_size=30, sample_size=10, mutation_prob=0.05, crossover=True)  \n",
    "\n",
    "# Experimento\n",
    "start_time = time.time()\n",
    "experiment = NasExperiment(model_space_nasbench,  evaluator_3c, strategy_RE2) # Experimentp\n",
    "#experiment.config.max_experiment_duration = '10m' # Duración máxima del experimento\n",
    "experiment.config.max_trial_number = 6   # Generar 4 pruebas como máximo\n",
    "experiment.run(port=8084)\n",
    "end_time = time.time()\n",
    "elapsed_time = end_time - start_time\n",
    "print(f\"Tiempo de corrida: {elapsed_time} segundos\")\n",
    "\n",
    "# Imprimir mejor modelo\n",
    "for model_dict in experiment.export_top_models(formatter='dict'):\n",
    "    print(model_dict)"
   ]
  },
  {
   "cell_type": "markdown",
   "id": "17e0e007",
   "metadata": {},
   "source": [
    "###  <p style=\"color:orange;\">Comparación con autokeras....</p>"
   ]
  },
  {
   "cell_type": "markdown",
   "id": "234fb9cf",
   "metadata": {},
   "source": [
    "Visualización de la base de datos:"
   ]
  },
  {
   "cell_type": "code",
   "execution_count": 13,
   "id": "247d6193",
   "metadata": {},
   "outputs": [
    {
     "name": "stdout",
     "output_type": "stream",
     "text": [
      "[6000 6000 6000 6000 6000 6000 6000 6000 6000 6000]\n"
     ]
    },
    {
     "data": {
      "image/png": "[encoded data removed]",
      "text/plain": [
       "<Figure size 1000x500 with 10 Axes>"
      ]
     },
     "metadata": {},
     "output_type": "display_data"
    }
   ],
   "source": [
    "import matplotlib.pyplot as plt\n",
    "from tensorflow.keras.datasets import fashion_mnist\n",
    "import numpy as np\n",
    "\n",
    "# Cargar el conjunto de datos Fashion MNIST\n",
    "(train_images, train_labels), (_, _) = fashion_mnist.load_data()\n",
    "\n",
    "# Calcular la frecuencia de cada etiqueta\n",
    "label_counts = np.bincount(train_labels)\n",
    "\n",
    "# Mostrar la frecuencia de cada etiqueta\n",
    "print(label_counts)\n",
    "\n",
    "# Mapeo de etiquetas a nombres de categorías\n",
    "labels_map = {0: \"T-Shirt\",1: \"Trouser\",2: \"Pullover\",3: \"Dress\",4: \"Coat\",5: \"Sandal\",6: \"Shirt\",7: \"Sneaker\",8: \"Bag\",\n",
    "              9: \"Ankle Boot\"}\n",
    "\n",
    "# plt.rcParams.update({'font.size': 19}) \n",
    "# Crear una figura con subgráficos por cada categoría\n",
    "figure, axes = plt.subplots(2, 5, figsize=(10, 5))\n",
    "\n",
    "# Iterar sobre las categorías y mostrar una imagen por categoría\n",
    "for i in range(10):\n",
    "    # Encontrar el índice de la primera imagen con la etiqueta actual\n",
    "    index = np.where(train_labels == i)[0][0]\n",
    "    image = train_images[index]\n",
    "\n",
    "    # Configurar la posición del subgráfico en la figura\n",
    "    row = i // 5\n",
    "    col = i % 5\n",
    "    axes[row, col].imshow(image, cmap=\"gray\")\n",
    "    axes[row, col].set_title(labels_map[i])\n",
    "    axes[row, col].axis(\"off\")\n",
    "\n",
    "# Ajustar el diseño y mostrar la figura\n",
    "plt.tight_layout()\n",
    "plt.show()"
   ]
  },
  {
   "cell_type": "markdown",
   "id": "dc6a477c",
   "metadata": {},
   "source": [
    "Espacio de búsqueda general"
   ]
  },
  {
   "cell_type": "code",
   "execution_count": null,
   "id": "9e9b0ca1",
   "metadata": {},
   "outputs": [],
   "source": [
    "import time\n",
    "import numpy as np\n",
    "import tensorflow as tf\n",
    "from tensorflow.keras.datasets import fashion_mnist\n",
    "import autokeras as ak\n",
    "\n",
    "# Cargar los datos \n",
    "(x_train, y_train), (x_test, y_test) = fashion_mnist.load_data()\n",
    "\n",
    "# Inicializar el clasificador de imágenes.\n",
    "clf = ak.ImageClassifier(overwrite=False, max_trials=1)\n",
    "\n",
    "start_time = time.time()\n",
    "# Entrenar el clasificador\n",
    "clf.fit(x_train, y_train, epochs=3)\n",
    "end_time = time.time()\n",
    "elapsed_time = end_time - start_time\n",
    "print(f\"Tiempo de corrida: {elapsed_time} segundos\")\n",
    "\n",
    "# Predecir con el mejor modelo\n",
    "# predicted_y = clf.predict(x_test)\n",
    "# print(predicted_y)\n",
    "\n",
    "# Evaluar en los datos de prueba\n",
    "print(\"Accuracy: {accuracy}\".format(accuracy=clf.evaluate(x_test, y_test)))\n"
   ]
  },
  {
   "cell_type": "markdown",
   "id": "f026ee65",
   "metadata": {},
   "source": [
    "Espacio de búsqueda personalizado"
   ]
  },
  {
   "cell_type": "code",
   "execution_count": 6,
   "id": "26063434",
   "metadata": {},
   "outputs": [
    {
     "name": "stdout",
     "output_type": "stream",
     "text": [
      "Trial 3 Complete [00h 59m 52s]\n",
      "val_loss: 0.44271373748779297\n",
      "\n",
      "Best val_loss So Far: 0.437551885843277\n",
      "Total elapsed time: 03h 02m 07s\n",
      "Epoch 1/3\n",
      "1875/1875 [==============================] - 1525s 807ms/step - loss: 0.9215 - accuracy: 0.6863\n",
      "Epoch 2/3\n",
      "1875/1875 [==============================] - 1513s 807ms/step - loss: 0.5649 - accuracy: 0.7961\n",
      "Epoch 3/3\n",
      "1875/1875 [==============================] - 1487s 793ms/step - loss: 0.4527 - accuracy: 0.8339\n",
      "INFO:tensorflow:Assets written to: .\\auto_model\\best_model\\assets\n"
     ]
    },
    {
     "name": "stderr",
     "output_type": "stream",
     "text": [
      "INFO:tensorflow:Assets written to: .\\auto_model\\best_model\\assets\n"
     ]
    },
    {
     "name": "stdout",
     "output_type": "stream",
     "text": [
      "Tiempo de corrida: 15497.552011013031 segundos\n",
      "WARNING:tensorflow:From C:\\Users\\Alondra\\anaconda3\\Lib\\site-packages\\keras\\src\\saving\\legacy\\saved_model\\load.py:107: The name tf.gfile.Exists is deprecated. Please use tf.io.gfile.exists instead.\n",
      "\n"
     ]
    },
    {
     "name": "stderr",
     "output_type": "stream",
     "text": [
      "WARNING:tensorflow:From C:\\Users\\Alondra\\anaconda3\\Lib\\site-packages\\keras\\src\\saving\\legacy\\saved_model\\load.py:107: The name tf.gfile.Exists is deprecated. Please use tf.io.gfile.exists instead.\n",
      "\n"
     ]
    },
    {
     "name": "stdout",
     "output_type": "stream",
     "text": [
      "313/313 [==============================] - 48s 149ms/step - loss: 0.4447 - accuracy: 0.8396\n",
      "Accuracy: [0.44473639130592346, 0.8396000266075134]\n"
     ]
    }
   ],
   "source": [
    "input_node = ak.ImageInput()\n",
    "output_node = ak.ImageBlock(\n",
    "    # Only search ResNet architectures.\n",
    "    block_type=\"resnet\",\n",
    "    # Normalize the dataset.\n",
    "    normalize=True,\n",
    "    # Do not do data augmentation.\n",
    "    augment=False,\n",
    ")(input_node)\n",
    "output_node = ak.ClassificationHead()(output_node)\n",
    "clf = ak.AutoModel(\n",
    "    inputs=input_node, outputs=output_node, overwrite=False, max_trials=3\n",
    ")\n",
    "\n",
    "start_time = time.time()\n",
    "clf.fit(x_train, y_train, epochs=3)\n",
    "end_time = time.time()\n",
    "elapsed_time = end_time - start_time\n",
    "print(f\"Tiempo de corrida: {elapsed_time} segundos\")\n",
    "\n",
    "# Evaluate on the testing data.\n",
    "print(\"Accuracy: {accuracy}\".format(accuracy=clf.evaluate(x_test, y_test)))\n"
   ]
  },
  {
   "cell_type": "code",
   "execution_count": null,
   "id": "f7eb7a06",
   "metadata": {},
   "outputs": [],
   "source": []
  }
 ],
 "metadata": {
  "kernelspec": {
   "display_name": "Python 3 (ipykernel)",
   "language": "python",
   "name": "python3"
  },
  "language_info": {
   "codemirror_mode": {
    "name": "ipython",
    "version": 3
   },
   "file_extension": ".py",
   "mimetype": "text/x-python",
   "name": "python",
   "nbconvert_exporter": "python",
   "pygments_lexer": "ipython3",
   "version": "3.11.5"
  }
 },
 "nbformat": 4,
 "nbformat_minor": 5
}
